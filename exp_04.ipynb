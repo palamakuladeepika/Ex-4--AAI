{
  "nbformat": 4,
  "nbformat_minor": 0,
  "metadata": {
    "colab": {
      "provenance": [],
      "authorship_tag": "ABX9TyOTbAmlqhMWc124EjbK73W0",
      "include_colab_link": true
    },
    "kernelspec": {
      "name": "python3",
      "display_name": "Python 3"
    },
    "language_info": {
      "name": "python"
    }
  },
  "cells": [
    {
      "cell_type": "markdown",
      "metadata": {
        "id": "view-in-github",
        "colab_type": "text"
      },
      "source": [
        "<a href=\"https://colab.research.google.com/github/Adithya-Siddam/Ex-4--AAI/blob/main/exp_04.ipynb\" target=\"_parent\"><img src=\"https://colab.research.google.com/assets/colab-badge.svg\" alt=\"Open In Colab\"/></a>"
      ]
    },
    {
      "cell_type": "code",
      "execution_count": 1,
      "metadata": {
        "id": "rMOHGXi4uvfG"
      },
      "outputs": [],
      "source": [
        "import numpy as np\n",
        "transition_matrix = np.array([[0.7, 0.3],[0.4, 0.6]])\n",
        "emission_matrix = np.array([[0.1, 0.9],[0.8, 0.2]])\n",
        "initial_probabilities=np.array([0.5, 0.5])\n",
        "observed_sequence = np.array([1, 1, 1, 0,0, 1])\n",
        "\n"
      ]
    },
    {
      "cell_type": "code",
      "source": [
        "alpha = np.zeros((len (observed_sequence),len(initial_probabilities)))\n",
        "alpha[0, :] = initial_probabilities*emission_matrix[:, observed_sequence[0]]\n",
        "\n"
      ],
      "metadata": {
        "id": "8l9qxRD0vSxB"
      },
      "execution_count": 2,
      "outputs": []
    },
    {
      "cell_type": "code",
      "source": [
        "for t in range (1, len (observed_sequence)):\n",
        "  for j in range(len(initial_probabilities)): alpha[t, j] = emission_matrix[j,\n",
        "observed_sequence[t]] * np.sum (alpha[t-1, :] * transition_matrix[:, j])\n",
        "\n"
      ],
      "metadata": {
        "id": "b4Db52IjvXnU"
      },
      "execution_count": 5,
      "outputs": []
    },
    {
      "cell_type": "code",
      "source": [
        "probability = np.sum (alpha [-1, :])\n",
        "print (\"The probability of the observed sequence is:\",probability)\n",
        "\n",
        "most_likely_sequence = []\n",
        "for t in range (len (observed_sequence)):\n",
        "    if alpha[t, 0] > alpha[t, 1]:\n",
        "        most_likely_sequence.append(\"sunny\")\n",
        "    else:\n",
        "        most_likely_sequence.append(\"rainy\")\n",
        "\n",
        "print (\"The most likely sequence of weather states is:\",most_likely_sequence)"
      ],
      "metadata": {
        "colab": {
          "base_uri": "https://localhost:8080/"
        },
        "id": "H50DosN1vaDp",
        "outputId": "68e8e072-8916-4e7e-c9de-77437404eed2"
      },
      "execution_count": 6,
      "outputs": [
        {
          "output_type": "stream",
          "name": "stdout",
          "text": [
            "The probability of the observed sequence is: 0.018906881625\n",
            "The most likely sequence of weather states is: ['sunny', 'sunny', 'sunny', 'rainy', 'rainy', 'sunny']\n"
          ]
        }
      ]
    }
  ]
}